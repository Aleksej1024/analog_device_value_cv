{
 "cells": [
  {
   "cell_type": "markdown",
   "id": "3317536b-8e79-4cb4-97fa-0c44c98d896e",
   "metadata": {},
   "source": [
    "Импорт необходимых библиотек"
   ]
  },
  {
   "cell_type": "code",
   "execution_count": 47,
   "id": "98746726-5e84-492b-bbb4-b12fd1878b5a",
   "metadata": {},
   "outputs": [],
   "source": [
    "from ultralytics import YOLO\n",
    "import shutil \n",
    "import os\n",
    "import ruamel.yaml as yaml\n",
    "from sklearn.metrics import accuracy_score, roc_auc_score, f1_score\n",
    "import numpy as np\n",
    "import sys\n",
    "import io\n",
    "from contextlib import redirect_stdout"
   ]
  },
  {
   "cell_type": "markdown",
   "id": "6236211c-34ac-4bda-92dd-f90f3990527d",
   "metadata": {},
   "source": [
    "Распаковка данных"
   ]
  },
  {
   "cell_type": "code",
   "execution_count": 13,
   "id": "3eaa662b-2bd7-4c17-af08-fe5cca9960f5",
   "metadata": {},
   "outputs": [],
   "source": [
    "shutil.unpack_archive('./preprocessed_images.zip', './data', 'zip') "
   ]
  },
  {
   "cell_type": "markdown",
   "id": "3c221f17-3aaf-4ab9-a0c7-66f32812e53f",
   "metadata": {},
   "source": [
    "Сбор классов"
   ]
  },
  {
   "cell_type": "code",
   "execution_count": 2,
   "id": "594b5c50-1757-4d78-a145-b52a630b4dd0",
   "metadata": {},
   "outputs": [],
   "source": [
    "classes=next(os.walk('./data/train/'))[1]"
   ]
  },
  {
   "cell_type": "markdown",
   "id": "0a7d73b7-2622-457e-9e63-eaeb375bee34",
   "metadata": {},
   "source": [
    "Создание датасета для Yolo"
   ]
  },
  {
   "cell_type": "code",
   "execution_count": 41,
   "id": "fe3266cf-81c4-4d30-9e3a-005d6c5b3352",
   "metadata": {},
   "outputs": [],
   "source": [
    "\n",
    "\n",
    "def create_yolo_yaml(config_dict, output_path='./data.yaml'):\n",
    "    \"\"\"\n",
    "    Creates a YOLO-compatible YAML configuration file.\n",
    "    \n",
    "    Args:\n",
    "        config_dict (dict): Dictionary containing YOLO configuration\n",
    "        output_path (str): Path where YAML file will be saved\n",
    "    \"\"\"\n",
    "    # Initialize YAML with round-trip preservation\n",
    "    yaml_config = yaml.YAML()\n",
    "    yaml_config.indent(mapping=2, sequence=4, offset=2)\n",
    "    yaml_config.width = float('inf')\n",
    "    \n",
    "    # Write configuration to YAML file\n",
    "    with open(output_path, 'w') as file:\n",
    "        yaml_config.dump(config_dict, file)\n",
    "\n",
    "# Define YOLO configuration\n",
    "config = {\n",
    "    'train': 'train/',\n",
    "    'valid': 'val/',\n",
    "    'test': 'test/',\n",
    "    'nc': len(classes),\n",
    "    'names': classes\n",
    "}\n",
    "\n",
    "# Create YAML file\n",
    "create_yolo_yaml(config)"
   ]
  },
  {
   "cell_type": "markdown",
   "id": "69c3cb19-cea9-431f-a915-d39bb935cedd",
   "metadata": {},
   "source": [
    "Пайплайн использует YOLO, которая логирует свои действия в ./runs/classify а номер папки можно просмотреть в файле который получаем на выходе при завершении пайплайна, такде на выходи получаем обученную модель, результат валидации с метрикой accuracy."
   ]
  },
  {
   "cell_type": "code",
   "execution_count": 51,
   "id": "36ddf602-1c6f-405e-b83e-1cec19572716",
   "metadata": {},
   "outputs": [],
   "source": [
    "def pipeline(model_select, **kwargs):\n",
    "    model=None\n",
    "    if model_select=='yolo11n':\n",
    "        model = YOLO(\"yolo11n-cls.pt\")\n",
    "    elif model_select==\"yolo11s\":\n",
    "        model = YOLO('yolo11s-cls.pt')\n",
    "    elif model_select=='yolo11m':\n",
    "        model = YOLO('yolo11m-cls.pt')\n",
    "    else:\n",
    "        print(\"Данная модель не поддерживается\")\n",
    "    e=1\n",
    "    for k,w in kwargs.items():\n",
    "        if k==\"epoch\":\n",
    "            e=w\n",
    "    f = io.StringIO()\n",
    "    with redirect_stdout(f):\n",
    "        model.train(data='./data/', epochs=e,verbose=False)\n",
    "        metrics = model.val()\n",
    "    output = f.getvalue()\n",
    "    now = datetime.now()\n",
    "    fn = now.strftime(\"%Y-%m-%d_%H-%M-%S.txt\")\n",
    "    with open(fn, 'w') as file:\n",
    "        file.write(output)\n",
    "    return model, metrics, output"
   ]
  },
  {
   "cell_type": "code",
   "execution_count": 52,
   "id": "d64f89bb-598e-46b4-b419-10c59251c4bf",
   "metadata": {},
   "outputs": [
    {
     "name": "stdout",
     "output_type": "stream",
     "text": [
      "Ultralytics 8.3.70 🚀 Python-3.11.2 torch-2.6.0+cu124 CPU (13th Gen Intel Core(TM) i5-13400)\n",
      "\u001b[34m\u001b[1mengine/trainer: \u001b[0mtask=classify, mode=train, model=yolo11n-cls.pt, data=./data/, epochs=1, time=None, patience=100, batch=16, imgsz=224, save=True, save_period=-1, cache=False, device=None, workers=8, project=None, name=train6, exist_ok=False, pretrained=True, optimizer=auto, verbose=False, seed=0, deterministic=True, single_cls=False, rect=False, cos_lr=False, close_mosaic=10, resume=False, amp=True, fraction=1.0, profile=False, freeze=None, multi_scale=False, overlap_mask=True, mask_ratio=4, dropout=0.0, val=True, split=val, save_json=False, save_hybrid=False, conf=None, iou=0.7, max_det=300, half=False, dnn=False, plots=True, source=None, vid_stride=1, stream_buffer=False, visualize=False, augment=False, agnostic_nms=False, classes=None, retina_masks=False, embed=None, show=False, save_frames=False, save_txt=False, save_conf=False, save_crop=False, show_labels=True, show_conf=True, show_boxes=True, line_width=None, format=torchscript, keras=False, optimize=False, int8=False, dynamic=False, simplify=True, opset=None, workspace=None, nms=False, lr0=0.01, lrf=0.01, momentum=0.937, weight_decay=0.0005, warmup_epochs=3.0, warmup_momentum=0.8, warmup_bias_lr=0.1, box=7.5, cls=0.5, dfl=1.5, pose=12.0, kobj=1.0, nbs=64, hsv_h=0.015, hsv_s=0.7, hsv_v=0.4, degrees=0.0, translate=0.1, scale=0.5, shear=0.0, perspective=0.0, flipud=0.0, fliplr=0.5, bgr=0.0, mosaic=1.0, mixup=0.0, copy_paste=0.0, copy_paste_mode=flip, auto_augment=randaugment, erasing=0.4, crop_fraction=1.0, cfg=None, tracker=botsort.yaml, save_dir=runs/classify/train6\n",
      "\u001b[34m\u001b[1mtrain:\u001b[0m /home/c10/Рабочий стол/С10/C10M3/data/train... found 25000 images in 1000 classes ✅ \n",
      "\u001b[34m\u001b[1mval:\u001b[0m /home/c10/Рабочий стол/С10/C10M3/data/val... found 2000 images in 1000 classes ✅ \n",
      "\u001b[34m\u001b[1mtest:\u001b[0m /home/c10/Рабочий стол/С10/C10M3/data/test... found 1000 images in 1000 classes ✅ \n",
      "Overriding model.yaml nc=80 with nc=1000\n",
      "\n",
      "                   from  n    params  module                                       arguments                     \n",
      "  0                  -1  1       464  ultralytics.nn.modules.conv.Conv             [3, 16, 3, 2]                 \n",
      "  1                  -1  1      4672  ultralytics.nn.modules.conv.Conv             [16, 32, 3, 2]                \n",
      "  2                  -1  1      6640  ultralytics.nn.modules.block.C3k2            [32, 64, 1, False, 0.25]      \n",
      "  3                  -1  1     36992  ultralytics.nn.modules.conv.Conv             [64, 64, 3, 2]                \n",
      "  4                  -1  1     26080  ultralytics.nn.modules.block.C3k2            [64, 128, 1, False, 0.25]     \n",
      "  5                  -1  1    147712  ultralytics.nn.modules.conv.Conv             [128, 128, 3, 2]              \n",
      "  6                  -1  1     87040  ultralytics.nn.modules.block.C3k2            [128, 128, 1, True]           \n",
      "  7                  -1  1    295424  ultralytics.nn.modules.conv.Conv             [128, 256, 3, 2]              \n",
      "  8                  -1  1    346112  ultralytics.nn.modules.block.C3k2            [256, 256, 1, True]           \n",
      "  9                  -1  1    249728  ultralytics.nn.modules.block.C2PSA           [256, 256, 1]                 \n",
      " 10                  -1  1   1611240  ultralytics.nn.modules.head.Classify         [256, 1000]                   \n",
      "YOLO11n-cls summary: 151 layers, 2,812,104 parameters, 2,812,104 gradients, 4.3 GFLOPs\n",
      "Transferred 236/236 items from pretrained weights\n"
     ]
    },
    {
     "name": "stderr",
     "output_type": "stream",
     "text": [
      "\u001b[34m\u001b[1mtrain: \u001b[0mScanning /home/c10/Рабочий стол/С10/C10M3/data/train... 25000 images, 0 corrupt: 100%|██████████| 25000/25000 [00:00<?, ?it/s]\u001b[0m\n",
      "\u001b[34m\u001b[1mval: \u001b[0mScanning /home/c10/Рабочий стол/С10/C10M3/data/val... 2000 images, 0 corrupt: 100%|██████████| 2000/2000 [00:00<?, ?it/s]\u001b[0m"
     ]
    },
    {
     "name": "stdout",
     "output_type": "stream",
     "text": [
      "\u001b[34m\u001b[1moptimizer:\u001b[0m 'optimizer=auto' found, ignoring 'lr0=0.01' and 'momentum=0.937' and determining best 'optimizer', 'lr0' and 'momentum' automatically... \n",
      "\u001b[34m\u001b[1moptimizer:\u001b[0m AdamW(lr=1e-05, momentum=0.9) with parameter groups 39 weight(decay=0.0), 40 weight(decay=0.0005), 40 bias(decay=0.0)\n",
      "Image sizes 224 train, 224 val\n",
      "Using 0 dataloader workers\n",
      "Logging results to \u001b[1mruns/classify/train6\u001b[0m\n",
      "Starting training for 1 epochs...\n",
      "\n",
      "      Epoch    GPU_mem       loss  Instances       Size\n"
     ]
    },
    {
     "name": "stderr",
     "output_type": "stream",
     "text": [
      "\n",
      "        1/1         0G      8.331          8        224: 100%|██████████| 1563/1563 [08:27<00:00,  3.08it/s]\n",
      "               classes   top1_acc   top5_acc: 100%|██████████| 63/63 [00:11<00:00,  5.33it/s]\n"
     ]
    },
    {
     "name": "stdout",
     "output_type": "stream",
     "text": [
      "                   all      0.002      0.006\n",
      "\n",
      "1 epochs completed in 0.145 hours.\n",
      "Optimizer stripped from runs/classify/train6/weights/last.pt, 5.8MB\n",
      "Optimizer stripped from runs/classify/train6/weights/best.pt, 5.8MB\n",
      "\n",
      "Validating runs/classify/train6/weights/best.pt...\n",
      "Ultralytics 8.3.70 🚀 Python-3.11.2 torch-2.6.0+cu124 CPU (13th Gen Intel Core(TM) i5-13400)\n",
      "YOLO11n-cls summary (fused): 112 layers, 2,807,024 parameters, 0 gradients, 4.2 GFLOPs\n",
      "\u001b[34m\u001b[1mtrain:\u001b[0m /home/c10/Рабочий стол/С10/C10M3/data/train... found 25000 images in 1000 classes ✅ \n",
      "\u001b[34m\u001b[1mval:\u001b[0m /home/c10/Рабочий стол/С10/C10M3/data/val... found 2000 images in 1000 classes ✅ \n",
      "\u001b[34m\u001b[1mtest:\u001b[0m /home/c10/Рабочий стол/С10/C10M3/data/test... found 1000 images in 1000 classes ✅ \n"
     ]
    },
    {
     "name": "stderr",
     "output_type": "stream",
     "text": [
      "               classes   top1_acc   top5_acc: 100%|██████████| 63/63 [00:10<00:00,  6.14it/s]\n"
     ]
    },
    {
     "name": "stdout",
     "output_type": "stream",
     "text": [
      "                   all      0.002      0.006\n",
      "Speed: 0.0ms preprocess, 3.8ms inference, 0.0ms loss, 0.0ms postprocess per image\n",
      "Results saved to \u001b[1mruns/classify/train6\u001b[0m\n",
      "Ultralytics 8.3.70 🚀 Python-3.11.2 torch-2.6.0+cu124 CPU (13th Gen Intel Core(TM) i5-13400)\n",
      "YOLO11n-cls summary (fused): 112 layers, 2,807,024 parameters, 0 gradients, 4.2 GFLOPs\n",
      "\u001b[34m\u001b[1mtrain:\u001b[0m /home/c10/Рабочий стол/С10/C10M3/data/train... found 25000 images in 1000 classes ✅ \n",
      "\u001b[34m\u001b[1mval:\u001b[0m /home/c10/Рабочий стол/С10/C10M3/data/val... found 2000 images in 1000 classes ✅ \n",
      "\u001b[34m\u001b[1mtest:\u001b[0m /home/c10/Рабочий стол/С10/C10M3/data/test... found 1000 images in 1000 classes ✅ \n"
     ]
    },
    {
     "name": "stderr",
     "output_type": "stream",
     "text": [
      "\u001b[34m\u001b[1mval: \u001b[0mScanning /home/c10/Рабочий стол/С10/C10M3/data/val... 2000 images, 0 corrupt: 100%|██████████| 2000/2000 [00:00<?, ?it/s]\u001b[0m\n",
      "               classes   top1_acc   top5_acc: 100%|██████████| 125/125 [00:09<00:00, 12.88it/s]\n"
     ]
    },
    {
     "name": "stdout",
     "output_type": "stream",
     "text": [
      "                   all      0.002      0.006\n",
      "Speed: 0.0ms preprocess, 3.7ms inference, 0.0ms loss, 0.0ms postprocess per image\n",
      "Results saved to \u001b[1mruns/classify/train62\u001b[0m\n"
     ]
    },
    {
     "ename": "NameError",
     "evalue": "name 'datetime' is not defined",
     "output_type": "error",
     "traceback": [
      "\u001b[0;31m---------------------------------------------------------------------------\u001b[0m",
      "\u001b[0;31mNameError\u001b[0m                                 Traceback (most recent call last)",
      "Cell \u001b[0;32mIn[52], line 1\u001b[0m\n\u001b[0;32m----> 1\u001b[0m \u001b[43mpipeline\u001b[49m\u001b[43m(\u001b[49m\u001b[38;5;124;43m'\u001b[39;49m\u001b[38;5;124;43myolo11n\u001b[39;49m\u001b[38;5;124;43m'\u001b[39;49m\u001b[43m,\u001b[49m\u001b[43mepchos\u001b[49m\u001b[38;5;241;43m=\u001b[39;49m\u001b[38;5;241;43m1\u001b[39;49m\u001b[43m)\u001b[49m\n",
      "Cell \u001b[0;32mIn[51], line 20\u001b[0m, in \u001b[0;36mpipeline\u001b[0;34m(model_select, **kwargs)\u001b[0m\n\u001b[1;32m     18\u001b[0m     metrics \u001b[38;5;241m=\u001b[39m model\u001b[38;5;241m.\u001b[39mval()\n\u001b[1;32m     19\u001b[0m output \u001b[38;5;241m=\u001b[39m f\u001b[38;5;241m.\u001b[39mgetvalue()\n\u001b[0;32m---> 20\u001b[0m now \u001b[38;5;241m=\u001b[39m \u001b[43mdatetime\u001b[49m\u001b[38;5;241m.\u001b[39mnow()\n\u001b[1;32m     21\u001b[0m fn \u001b[38;5;241m=\u001b[39m now\u001b[38;5;241m.\u001b[39mstrftime(\u001b[38;5;124m\"\u001b[39m\u001b[38;5;124m%\u001b[39m\u001b[38;5;124mY-\u001b[39m\u001b[38;5;124m%\u001b[39m\u001b[38;5;124mm-\u001b[39m\u001b[38;5;132;01m%d\u001b[39;00m\u001b[38;5;124m_\u001b[39m\u001b[38;5;124m%\u001b[39m\u001b[38;5;124mH-\u001b[39m\u001b[38;5;124m%\u001b[39m\u001b[38;5;124mM-\u001b[39m\u001b[38;5;124m%\u001b[39m\u001b[38;5;124mS.txt\u001b[39m\u001b[38;5;124m\"\u001b[39m)\n\u001b[1;32m     22\u001b[0m \u001b[38;5;28;01mwith\u001b[39;00m \u001b[38;5;28mopen\u001b[39m(fn, \u001b[38;5;124m'\u001b[39m\u001b[38;5;124mw\u001b[39m\u001b[38;5;124m'\u001b[39m) \u001b[38;5;28;01mas\u001b[39;00m file:\n",
      "\u001b[0;31mNameError\u001b[0m: name 'datetime' is not defined"
     ]
    }
   ],
   "source": [
    "pipeline('yolo11n',epchos=1)"
   ]
  },
  {
   "cell_type": "code",
   "execution_count": 15,
   "id": "329d04e2-a084-48ee-b1fb-fcc9796378eb",
   "metadata": {},
   "outputs": [
    {
     "name": "stdout",
     "output_type": "stream",
     "text": [
      "Ultralytics 8.3.70 🚀 Python-3.11.2 torch-2.6.0+cu124 CPU (13th Gen Intel Core(TM) i5-13400)\n",
      "\u001b[34m\u001b[1mengine/trainer: \u001b[0mtask=classify, mode=train, model=yolo11n-cls.pt, data=./data/, epochs=1, time=None, patience=100, batch=16, imgsz=224, save=True, save_period=-1, cache=False, device=None, workers=8, project=None, name=train5, exist_ok=False, pretrained=True, optimizer=auto, verbose=False, seed=0, deterministic=True, single_cls=False, rect=False, cos_lr=False, close_mosaic=10, resume=False, amp=True, fraction=1.0, profile=False, freeze=None, multi_scale=False, overlap_mask=True, mask_ratio=4, dropout=0.0, val=True, split=val, save_json=False, save_hybrid=False, conf=None, iou=0.7, max_det=300, half=False, dnn=False, plots=True, source=None, vid_stride=1, stream_buffer=False, visualize=False, augment=False, agnostic_nms=False, classes=None, retina_masks=False, embed=None, show=False, save_frames=False, save_txt=False, save_conf=False, save_crop=False, show_labels=True, show_conf=True, show_boxes=True, line_width=None, format=torchscript, keras=False, optimize=False, int8=False, dynamic=False, simplify=True, opset=None, workspace=None, nms=False, lr0=0.01, lrf=0.01, momentum=0.937, weight_decay=0.0005, warmup_epochs=3.0, warmup_momentum=0.8, warmup_bias_lr=0.1, box=7.5, cls=0.5, dfl=1.5, pose=12.0, kobj=1.0, nbs=64, hsv_h=0.015, hsv_s=0.7, hsv_v=0.4, degrees=0.0, translate=0.1, scale=0.5, shear=0.0, perspective=0.0, flipud=0.0, fliplr=0.5, bgr=0.0, mosaic=1.0, mixup=0.0, copy_paste=0.0, copy_paste_mode=flip, auto_augment=randaugment, erasing=0.4, crop_fraction=1.0, cfg=None, tracker=botsort.yaml, save_dir=runs/classify/train5\n",
      "\u001b[34m\u001b[1mtrain:\u001b[0m /home/c10/Рабочий стол/С10/C10M3/data/train... found 25000 images in 1000 classes ✅ \n",
      "\u001b[34m\u001b[1mval:\u001b[0m /home/c10/Рабочий стол/С10/C10M3/data/val... found 2000 images in 1000 classes ✅ \n",
      "\u001b[34m\u001b[1mtest:\u001b[0m /home/c10/Рабочий стол/С10/C10M3/data/test... found 1000 images in 1000 classes ✅ \n",
      "Overriding model.yaml nc=80 with nc=1000\n",
      "\n",
      "                   from  n    params  module                                       arguments                     \n",
      "  0                  -1  1       464  ultralytics.nn.modules.conv.Conv             [3, 16, 3, 2]                 \n",
      "  1                  -1  1      4672  ultralytics.nn.modules.conv.Conv             [16, 32, 3, 2]                \n",
      "  2                  -1  1      6640  ultralytics.nn.modules.block.C3k2            [32, 64, 1, False, 0.25]      \n",
      "  3                  -1  1     36992  ultralytics.nn.modules.conv.Conv             [64, 64, 3, 2]                \n",
      "  4                  -1  1     26080  ultralytics.nn.modules.block.C3k2            [64, 128, 1, False, 0.25]     \n",
      "  5                  -1  1    147712  ultralytics.nn.modules.conv.Conv             [128, 128, 3, 2]              \n",
      "  6                  -1  1     87040  ultralytics.nn.modules.block.C3k2            [128, 128, 1, True]           \n",
      "  7                  -1  1    295424  ultralytics.nn.modules.conv.Conv             [128, 256, 3, 2]              \n",
      "  8                  -1  1    346112  ultralytics.nn.modules.block.C3k2            [256, 256, 1, True]           \n",
      "  9                  -1  1    249728  ultralytics.nn.modules.block.C2PSA           [256, 256, 1]                 \n",
      " 10                  -1  1   1611240  ultralytics.nn.modules.head.Classify         [256, 1000]                   \n",
      "YOLO11n-cls summary: 151 layers, 2,812,104 parameters, 2,812,104 gradients, 4.3 GFLOPs\n",
      "Transferred 236/236 items from pretrained weights\n"
     ]
    },
    {
     "name": "stderr",
     "output_type": "stream",
     "text": [
      "\u001b[34m\u001b[1mtrain: \u001b[0mScanning /home/c10/Рабочий стол/С10/C10M3/data/train... 25000 images, 0 corrupt: 100%|██████████| 25000/25000 [00:00<?, ?it/s]\u001b[0m\n",
      "\u001b[34m\u001b[1mval: \u001b[0mScanning /home/c10/Рабочий стол/С10/C10M3/data/val... 2000 images, 0 corrupt: 100%|██████████| 2000/2000 [00:00<?, ?it/s]\u001b[0m\n"
     ]
    },
    {
     "name": "stdout",
     "output_type": "stream",
     "text": [
      "\u001b[34m\u001b[1moptimizer:\u001b[0m 'optimizer=auto' found, ignoring 'lr0=0.01' and 'momentum=0.937' and determining best 'optimizer', 'lr0' and 'momentum' automatically... \n",
      "\u001b[34m\u001b[1moptimizer:\u001b[0m AdamW(lr=1e-05, momentum=0.9) with parameter groups 39 weight(decay=0.0), 40 weight(decay=0.0005), 40 bias(decay=0.0)\n",
      "Image sizes 224 train, 224 val\n",
      "Using 0 dataloader workers\n",
      "Logging results to \u001b[1mruns/classify/train5\u001b[0m\n",
      "Starting training for 1 epochs...\n",
      "\n",
      "      Epoch    GPU_mem       loss  Instances       Size\n"
     ]
    },
    {
     "name": "stderr",
     "output_type": "stream",
     "text": [
      "        1/1         0G      8.331          8        224: 100%|██████████| 1563/1563 [08:18<00:00,  3.14it/s]\n",
      "               classes   top1_acc   top5_acc: 100%|██████████| 63/63 [00:13<00:00,  4.83it/s]\n"
     ]
    },
    {
     "name": "stdout",
     "output_type": "stream",
     "text": [
      "                   all      0.002      0.006\n",
      "\n",
      "1 epochs completed in 0.143 hours.\n",
      "Optimizer stripped from runs/classify/train5/weights/last.pt, 5.8MB\n",
      "Optimizer stripped from runs/classify/train5/weights/best.pt, 5.8MB\n",
      "\n",
      "Validating runs/classify/train5/weights/best.pt...\n",
      "Ultralytics 8.3.70 🚀 Python-3.11.2 torch-2.6.0+cu124 CPU (13th Gen Intel Core(TM) i5-13400)\n",
      "YOLO11n-cls summary (fused): 112 layers, 2,807,024 parameters, 0 gradients, 4.2 GFLOPs\n",
      "\u001b[34m\u001b[1mtrain:\u001b[0m /home/c10/Рабочий стол/С10/C10M3/data/train... found 25000 images in 1000 classes ✅ \n",
      "\u001b[34m\u001b[1mval:\u001b[0m /home/c10/Рабочий стол/С10/C10M3/data/val... found 2000 images in 1000 classes ✅ \n",
      "\u001b[34m\u001b[1mtest:\u001b[0m /home/c10/Рабочий стол/С10/C10M3/data/test... found 1000 images in 1000 classes ✅ \n"
     ]
    },
    {
     "name": "stderr",
     "output_type": "stream",
     "text": [
      "               classes   top1_acc   top5_acc: 100%|██████████| 63/63 [00:10<00:00,  6.10it/s]\n"
     ]
    },
    {
     "name": "stdout",
     "output_type": "stream",
     "text": [
      "                   all      0.002      0.006\n",
      "Speed: 0.0ms preprocess, 3.8ms inference, 0.0ms loss, 0.0ms postprocess per image\n",
      "Results saved to \u001b[1mruns/classify/train5\u001b[0m\n",
      "Ultralytics 8.3.70 🚀 Python-3.11.2 torch-2.6.0+cu124 CPU (13th Gen Intel Core(TM) i5-13400)\n",
      "YOLO11n-cls summary (fused): 112 layers, 2,807,024 parameters, 0 gradients, 4.2 GFLOPs\n",
      "\u001b[34m\u001b[1mtrain:\u001b[0m /home/c10/Рабочий стол/С10/C10M3/data/train... found 25000 images in 1000 classes ✅ \n",
      "\u001b[34m\u001b[1mval:\u001b[0m /home/c10/Рабочий стол/С10/C10M3/data/val... found 2000 images in 1000 classes ✅ \n",
      "\u001b[34m\u001b[1mtest:\u001b[0m /home/c10/Рабочий стол/С10/C10M3/data/test... found 1000 images in 1000 classes ✅ \n"
     ]
    },
    {
     "name": "stderr",
     "output_type": "stream",
     "text": [
      "\u001b[34m\u001b[1mval: \u001b[0mScanning /home/c10/Рабочий стол/С10/C10M3/data/val... 2000 images, 0 corrupt: 100%|██████████| 2000/2000 [00:00<?, ?it/s]\u001b[0m\n",
      "               classes   top1_acc   top5_acc: 100%|██████████| 125/125 [00:08<00:00, 13.96it/s]\n"
     ]
    },
    {
     "name": "stdout",
     "output_type": "stream",
     "text": [
      "                   all      0.002      0.006\n",
      "Speed: 0.0ms preprocess, 3.5ms inference, 0.0ms loss, 0.0ms postprocess per image\n",
      "Results saved to \u001b[1mruns/classify/train52\u001b[0m\n"
     ]
    }
   ],
   "source": [
    "model = YOLO(\"yolo11n-cls.pt\")\n",
    "model.train(data='./data/', epochs=1,verbose=False)\n",
    "metrics = model.val()"
   ]
  },
  {
   "cell_type": "code",
   "execution_count": null,
   "id": "2762ec0b-6cf2-4f06-acdf-247b5298523a",
   "metadata": {},
   "outputs": [],
   "source": [
    "from sklearn.metrics import precision_score, f1_score, roc_auc_score\n",
    "from typing import Dict\n",
    "\n",
    "def calculate_metrics(preds, targets):\n",
    "    # Вычисление метрик\n",
    "    precision_score_val = precision_score(targets, preds, average='weighted')\n",
    "    f1_score_val = f1_score(targets, preds, average='weighted')\n",
    "    roc_auc_score_val = roc_auc_score(targets, preds)\n",
    "    \n",
    "    # Формирование словаря результатов\n",
    "    metrics_dict = {\n",
    "        'precision': precision_score_val,\n",
    "        'f1': f1_score_val,\n",
    "        'roc_auc': roc_auc_score_val\n",
    "    }\n",
    "    \n",
    "    return metrics_dict"
   ]
  },
  {
   "cell_type": "code",
   "execution_count": null,
   "id": "3d96cd7d-fca9-4dd3-b634-95fddf432cf3",
   "metadata": {},
   "outputs": [],
   "source": []
  }
 ],
 "metadata": {
  "kernelspec": {
   "display_name": "Python 3 (ipykernel)",
   "language": "python",
   "name": "python3"
  },
  "language_info": {
   "codemirror_mode": {
    "name": "ipython",
    "version": 3
   },
   "file_extension": ".py",
   "mimetype": "text/x-python",
   "name": "python",
   "nbconvert_exporter": "python",
   "pygments_lexer": "ipython3",
   "version": "3.11.2"
  }
 },
 "nbformat": 4,
 "nbformat_minor": 5
}
